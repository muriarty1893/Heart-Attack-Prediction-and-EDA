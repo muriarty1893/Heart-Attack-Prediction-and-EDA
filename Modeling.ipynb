{
 "cells": [
  {
   "cell_type": "code",
   "execution_count": 15,
   "id": "private-princeton",
   "metadata": {
    "_kg_hide-input": true,
    "papermill": {
     "duration": 0.953227,
     "end_time": "2021-05-22T11:44:54.647165",
     "exception": false,
     "start_time": "2021-05-22T11:44:53.693938",
     "status": "completed"
    },
    "tags": []
   },
   "outputs": [],
   "source": [
    "import pandas as pd\n",
    "import numpy as np\n",
    "import matplotlib.pyplot as plt\n",
    "import warnings\n",
    "warnings.filterwarnings(\"ignore\")"
   ]
  },
  {
   "cell_type": "code",
   "execution_count": 16,
   "id": "homeless-ordinary",
   "metadata": {
    "_kg_hide-input": true,
    "papermill": {
     "duration": 0.064551,
     "end_time": "2021-05-22T11:44:54.831596",
     "exception": false,
     "start_time": "2021-05-22T11:44:54.767045",
     "status": "completed"
    },
    "tags": []
   },
   "outputs": [],
   "source": [
    "df_original = pd.read_csv(\"heart.csv\")"
   ]
  },
  {
   "cell_type": "code",
   "execution_count": 17,
   "id": "9346426a-40c5-48a0-9f96-b98fb3e96aac",
   "metadata": {},
   "outputs": [],
   "source": [
    "df = df_original.copy()"
   ]
  },
  {
   "cell_type": "code",
   "execution_count": 18,
   "id": "alternate-translator",
   "metadata": {
    "_kg_hide-input": true,
    "papermill": {
     "duration": 0.051857,
     "end_time": "2021-05-22T11:44:55.638330",
     "exception": false,
     "start_time": "2021-05-22T11:44:55.586473",
     "status": "completed"
    },
    "tags": []
   },
   "outputs": [],
   "source": [
    "cat_cols = ['sex','exng','caa','cp','fbs','restecg','slp','thall']\n",
    "con_cols = [\"age\",\"trtbps\",\"chol\",\"thalachh\",\"oldpeak\"]\n",
    "target_col = [\"output\"]"
   ]
  },
  {
   "cell_type": "code",
   "execution_count": 19,
   "id": "killing-welsh",
   "metadata": {
    "_kg_hide-input": true,
    "papermill": {
     "duration": 1.922191,
     "end_time": "2021-05-22T11:45:52.153008",
     "exception": false,
     "start_time": "2021-05-22T11:45:50.230817",
     "status": "completed"
    },
    "tags": []
   },
   "outputs": [],
   "source": [
    "# Train Test Split\n",
    "from sklearn.model_selection import train_test_split\n",
    "\n",
    "# Models\n",
    "from sklearn.svm import SVC\n",
    "from sklearn.linear_model import LogisticRegression\n",
    "from sklearn.ensemble import RandomForestClassifier\n",
    "from sklearn.tree import DecisionTreeClassifier\n",
    "from sklearn.ensemble import GradientBoostingClassifier\n",
    "\n",
    "# Metrics\n",
    "from sklearn.metrics import accuracy_score, roc_curve"
   ]
  },
  {
   "cell_type": "code",
   "execution_count": 20,
   "id": "black-grill",
   "metadata": {
    "_kg_hide-input": true,
    "papermill": {
     "duration": 0.135072,
     "end_time": "2021-05-22T11:45:52.716208",
     "exception": false,
     "start_time": "2021-05-22T11:45:52.581136",
     "status": "completed"
    },
    "tags": []
   },
   "outputs": [],
   "source": [
    "X = df.drop(['output'],axis=1)\n",
    "y = df[['output']]"
   ]
  },
  {
   "cell_type": "code",
   "execution_count": 21,
   "id": "human-halloween",
   "metadata": {
    "_kg_hide-input": true,
    "papermill": {
     "duration": 0.104709,
     "end_time": "2021-05-22T11:45:53.087647",
     "exception": false,
     "start_time": "2021-05-22T11:45:52.982938",
     "status": "completed"
    },
    "tags": []
   },
   "outputs": [
    {
     "name": "stdout",
     "output_type": "stream",
     "text": [
      "The shape of X_train is       (242, 13)\n",
      "The shape of X_test is        (61, 13)\n",
      "The shape of y_train is       (242, 1)\n",
      "The shape of y_test is        (61, 1)\n"
     ]
    }
   ],
   "source": [
    "X_train, X_test, y_train, y_test = train_test_split(X,y, test_size = 0.2, random_state = 42)\n",
    "print(\"The shape of X_train is      \", X_train.shape)\n",
    "print(\"The shape of X_test is       \",X_test.shape)\n",
    "print(\"The shape of y_train is      \",y_train.shape)\n",
    "print(\"The shape of y_test is       \",y_test.shape)"
   ]
  },
  {
   "cell_type": "code",
   "execution_count": 22,
   "id": "explicit-spirituality",
   "metadata": {
    "_kg_hide-input": true,
    "papermill": {
     "duration": 0.108578,
     "end_time": "2021-05-22T11:45:53.819659",
     "exception": false,
     "start_time": "2021-05-22T11:45:53.711081",
     "status": "completed"
    },
    "tags": []
   },
   "outputs": [
    {
     "name": "stdout",
     "output_type": "stream",
     "text": [
      "0.8688524590163934\n"
     ]
    }
   ],
   "source": [
    "## SVM (Support Vector Machines) \n",
    "# instantiating the object and fitting\n",
    "clf = SVC(kernel='linear', C=1, random_state=42).fit(X_train,y_train)\n",
    "\n",
    "# predicting the values\n",
    "y_pred = clf.predict(X_test)\n",
    "\n",
    "# printing the test accuracy\n",
    "print(accuracy_score(y_test, y_pred))"
   ]
  },
  {
   "cell_type": "code",
   "execution_count": 23,
   "id": "worthy-calvin",
   "metadata": {
    "_kg_hide-input": true,
    "papermill": {
     "duration": 0.118114,
     "end_time": "2021-05-22T11:45:59.242765",
     "exception": false,
     "start_time": "2021-05-22T11:45:59.124651",
     "status": "completed"
    },
    "tags": []
   },
   "outputs": [
    {
     "name": "stdout",
     "output_type": "stream",
     "text": [
      "The test accuracy score of Logistric Regression is  0.8852459016393442\n"
     ]
    }
   ],
   "source": [
    "#  Logistic Regression\n",
    "# instantiating the object\n",
    "logreg = LogisticRegression()\n",
    "\n",
    "# fitting the object\n",
    "logreg.fit(X_train, y_train)\n",
    "\n",
    "# calculating the probabilities\n",
    "y_pred_proba = logreg.predict_proba(X_test)\n",
    "\n",
    "# finding the predicted valued\n",
    "y_pred = np.argmax(y_pred_proba,axis=1)\n",
    "\n",
    "# printing the test accuracy\n",
    "print(\"The test accuracy score of Logistric Regression is \", accuracy_score(y_test, y_pred))"
   ]
  },
  {
   "cell_type": "code",
   "execution_count": 24,
   "id": "accredited-stomach",
   "metadata": {
    "_kg_hide-input": true,
    "papermill": {
     "duration": 0.212128,
     "end_time": "2021-05-22T11:45:59.727079",
     "exception": false,
     "start_time": "2021-05-22T11:45:59.514951",
     "status": "completed"
    },
    "tags": []
   },
   "outputs": [
    {
     "data": {
      "image/png": "[encoded data removed]",
      "text/plain": [
       "<Figure size 640x480 with 1 Axes>"
      ]
     },
     "metadata": {},
     "output_type": "display_data"
    }
   ],
   "source": [
    "# ROC Curve for Logistic Regression\n",
    "# calculating the probabilities\n",
    "y_pred_prob = logreg.predict_proba(X_test)[:,1]\n",
    "\n",
    "# instantiating the roc_cruve\n",
    "fpr,tpr,threshols=roc_curve(y_test,y_pred_prob)\n",
    "\n",
    "# plotting the curve\n",
    "plt.plot([0,1],[0,1],\"k--\",'r+')\n",
    "plt.plot(fpr,tpr,label='Logistic Regression')\n",
    "plt.xlabel(\"False Positive Rate\")\n",
    "plt.ylabel(\"True Positive Rate\")\n",
    "plt.title(\"Logistric Regression ROC Curve\")\n",
    "plt.show()"
   ]
  },
  {
   "cell_type": "code",
   "execution_count": 25,
   "id": "signed-louisville",
   "metadata": {
    "_kg_hide-input": true,
    "papermill": {
     "duration": 0.110322,
     "end_time": "2021-05-22T11:46:00.299838",
     "exception": false,
     "start_time": "2021-05-22T11:46:00.189516",
     "status": "completed"
    },
    "tags": []
   },
   "outputs": [
    {
     "name": "stdout",
     "output_type": "stream",
     "text": [
      "0.7540983606557377\n"
     ]
    }
   ],
   "source": [
    "# Decision Tree\n",
    "# instantiating the object\n",
    "dt = DecisionTreeClassifier(random_state = 42)\n",
    "\n",
    "# fitting the model\n",
    "dt.fit(X_train, y_train)\n",
    "\n",
    "# calculating the predictions\n",
    "y_pred = dt.predict(X_test)\n",
    "\n",
    "# printing the test accuracy\n",
    "print(accuracy_score(y_test, y_pred))"
   ]
  },
  {
   "cell_type": "code",
   "execution_count": 26,
   "id": "0dbadb30-0a54-450d-b5f1-8f961c8e0852",
   "metadata": {},
   "outputs": [
    {
     "name": "stdout",
     "output_type": "stream",
     "text": [
      "0.8524590163934426\n"
     ]
    }
   ],
   "source": [
    "# Random Forest\n",
    "# instantiating the object\n",
    "rf = RandomForestClassifier()\n",
    "\n",
    "# fitting the model\n",
    "rf.fit(X_train, y_train)\n",
    "\n",
    "# calculating the predictions\n",
    "y_pred = rf.predict(X_test)\n",
    "\n",
    "# printing the test accuracy\n",
    "print(accuracy_score(y_test, y_pred))"
   ]
  },
  {
   "cell_type": "code",
   "execution_count": 27,
   "id": "middle-earthquake",
   "metadata": {
    "_kg_hide-input": true,
    "execution": {
     "iopub.execute_input": "2021-05-22T11:46:01.256463Z",
     "iopub.status.busy": "2021-05-22T11:46:01.255772Z",
     "iopub.status.idle": "2021-05-22T11:46:01.414319Z",
     "shell.execute_reply": "2021-05-22T11:46:01.413439Z"
    },
    "papermill": {
     "duration": 0.260962,
     "end_time": "2021-05-22T11:46:01.414505",
     "exception": false,
     "start_time": "2021-05-22T11:46:01.153543",
     "status": "completed"
    },
    "tags": []
   },
   "outputs": [
    {
     "name": "stdout",
     "output_type": "stream",
     "text": [
      "0.8688524590163934\n"
     ]
    }
   ],
   "source": [
    "# Gradient Boosting Classifier - without tuning\n",
    "# instantiate the classifier\n",
    "gbt = GradientBoostingClassifier(n_estimators = 300,max_depth=1,subsample=0.8,max_features=0.2,random_state=42)\n",
    "\n",
    "# fitting the model\n",
    "gbt.fit(X_train,y_train)\n",
    "\n",
    "# predicting values\n",
    "y_pred = gbt.predict(X_test)\n",
    "print(accuracy_score(y_test, y_pred))"
   ]
  }
 ],
 "metadata": {
  "kernelspec": {
   "display_name": "tf",
   "language": "python",
   "name": "python3"
  },
  "language_info": {
   "codemirror_mode": {
    "name": "ipython",
    "version": 3
   },
   "file_extension": ".py",
   "mimetype": "text/x-python",
   "name": "python",
   "nbconvert_exporter": "python",
   "pygments_lexer": "ipython3",
   "version": "3.9.19"
  },
  "papermill": {
   "default_parameters": {},
   "duration": 75.74048,
   "end_time": "2021-05-22T11:46:02.885127",
   "environment_variables": {},
   "exception": null,
   "input_path": "__notebook__.ipynb",
   "output_path": "__notebook__.ipynb",
   "parameters": {},
   "start_time": "2021-05-22T11:44:47.144647",
   "version": "2.3.2"
  }
 },
 "nbformat": 4,
 "nbformat_minor": 5
}
